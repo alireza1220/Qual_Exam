{
 "cells": [
  {
   "cell_type": "markdown",
   "metadata": {},
   "source": [
    "# LONGITUDINAL JOINT CRACK DETECTION"
   ]
  },
  {
   "cell_type": "markdown",
   "metadata": {},
   "source": [
    "## TRAIN MODEL"
   ]
  },
  {
   "cell_type": "code",
   "execution_count": null,
   "metadata": {},
   "outputs": [],
   "source": [
    "#%%bash\n",
    "#python train.py --logtostderr --train_dir=./models/train --pipeline_config_path=ssd_mobilenet_v2_quant_sean.config"
   ]
  },
  {
   "cell_type": "markdown",
   "metadata": {},
   "source": [
    "## INFERENCE MODEL"
   ]
  },
  {
   "cell_type": "code",
   "execution_count": null,
   "metadata": {},
   "outputs": [],
   "source": [
    "import time\n",
    "import tensorflow as tf\n",
    "from object_detection.utils import label_map_util\n",
    "import fast_object_detect_video_lib as FOL"
   ]
  },
  {
   "cell_type": "markdown",
   "metadata": {},
   "source": [
    "## PATHS"
   ]
  },
  {
   "cell_type": "code",
   "execution_count": null,
   "metadata": {},
   "outputs": [],
   "source": [
    "# Path to model graph\n",
    "PATH_TO_MODEL = './fine_tuned_model/frozen_inference_graph.pb'\n",
    "# Path to list of the strings that is used to add correct label for each box.\n",
    "PATH_TO_LABELS = './dataset/pascal_label_map.pbtxt'\n",
    "# Total number of image classes\n",
    "NUM_CLASSES = 3\n",
    "# Path to image directory and to images\n",
    "TEST_DIR_PATH = './testIMG_bw'"
   ]
  },
  {
   "cell_type": "markdown",
   "metadata": {},
   "source": [
    "## LABELS"
   ]
  },
  {
   "cell_type": "code",
   "execution_count": null,
   "metadata": {},
   "outputs": [],
   "source": [
    "# Lables\n",
    "LABEL_MAP = label_map_util.load_labelmap(PATH_TO_LABELS)\n",
    "CATEGORIES = label_map_util.convert_label_map_to_categories(LABEL_MAP,\n",
    "                                                            max_num_classes=\n",
    "                                                            NUM_CLASSES,\n",
    "                                                            use_display_name\n",
    "                                                            =True)\n",
    "\n",
    "CATEGORY_INDEX = label_map_util.create_category_index(CATEGORIES)"
   ]
  },
  {
   "cell_type": "markdown",
   "metadata": {},
   "source": [
    "## FRAME SIZE"
   ]
  },
  {
   "cell_type": "code",
   "execution_count": null,
   "metadata": {},
   "outputs": [],
   "source": [
    "# Image Frame Size (480x480 default)\n",
    "IMAGE_WIDTH = 224\n",
    "IMAGE_HEIGHT = 224\n",
    "# Debug flag\n",
    "TIMER = 1\n",
    "ITIMER = 0"
   ]
  },
  {
   "cell_type": "markdown",
   "metadata": {},
   "source": [
    "## INFERENCING CORE"
   ]
  },
  {
   "cell_type": "code",
   "execution_count": null,
   "metadata": {},
   "outputs": [],
   "source": [
    "detection_graph = FOL.setupgraph(PATH_TO_MODEL)\n",
    "\n",
    "with detection_graph.as_default():\n",
    "    with tf.Session() as sess:\n",
    "        image_np = FOL.read_single_image(1, './testIMG_bw')\n",
    "        output_dict = FOL.run_inference(image_np, sess)"
   ]
  },
  {
   "cell_type": "code",
   "execution_count": null,
   "metadata": {},
   "outputs": [],
   "source": [
    "print(output_dict)  # (1) number of detections, \n",
    "                    # (2) detection boxes, \n",
    "                    # (3) detection scores, \n",
    "                    # (4) detection classes"
   ]
  },
  {
   "cell_type": "markdown",
   "metadata": {},
   "source": [
    "## VISUALIZATION"
   ]
  },
  {
   "cell_type": "code",
   "execution_count": null,
   "metadata": {},
   "outputs": [],
   "source": [
    "out = None\n",
    "i = None\n",
    "img = FOL.visulization(image_np, output_dict, CATEGORY_INDEX, out , i, TEST_DIR_PATH, save=0)"
   ]
  },
  {
   "cell_type": "code",
   "execution_count": null,
   "metadata": {},
   "outputs": [],
   "source": [
    "import matplotlib.pyplot as plt\n",
    "#plt.figure(figsize=(2, 2))\n",
    "plt.imshow(img, cmap='gray', vmin=0, vmax=255)\n",
    "plt.title(f'class:{int(1)},labeled as {2}')\n",
    "plt.show()"
   ]
  },
  {
   "cell_type": "code",
   "execution_count": null,
   "metadata": {},
   "outputs": [],
   "source": []
  }
 ],
 "metadata": {
  "kernelspec": {
   "display_name": "Python 3",
   "language": "python",
   "name": "python3"
  },
  "language_info": {
   "codemirror_mode": {
    "name": "ipython",
    "version": 3
   },
   "file_extension": ".py",
   "mimetype": "text/x-python",
   "name": "python",
   "nbconvert_exporter": "python",
   "pygments_lexer": "ipython3",
   "version": "3.6.9"
  }
 },
 "nbformat": 4,
 "nbformat_minor": 2
}
