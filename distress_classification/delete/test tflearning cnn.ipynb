{
 "cells": [
  {
   "cell_type": "code",
   "execution_count": 1,
   "metadata": {},
   "outputs": [],
   "source": [
    "# import the model\n",
    "import readmodel"
   ]
  },
  {
   "cell_type": "code",
   "execution_count": 2,
   "metadata": {},
   "outputs": [],
   "source": [
    "model_name = 'model_1' # 'model_1' or 'model_2'\n",
    "input_shape = (1, 64, 64)\n",
    "num_classses = 2"
   ]
  },
  {
   "cell_type": "code",
   "execution_count": null,
   "metadata": {},
   "outputs": [],
   "source": [
    "model = readmodel.modelchoose(model_name,input_shape, num_classses)"
   ]
  },
  {
   "cell_type": "code",
   "execution_count": null,
   "metadata": {},
   "outputs": [],
   "source": [
    "# model_1: https://keras.io/examples/cifar10_cnn/\n",
    "from tensorflow.keras import layers, models\n",
    "model_name1 = 'Transfer_learning_vgg'\n",
    "# add preprocessing layer to the front of VGG\n",
    "from tensorflow.keras.applications.vgg16 import VGG16\n",
    "# re-size all the images to this\n",
    "input_shape = (64, 64, 3) # feel free to change depending on dataset\n",
    "vgg = VGG16(input_shape= input_shape , weights='imagenet', include_top=False)\n"
   ]
  },
  {
   "cell_type": "code",
   "execution_count": null,
   "metadata": {},
   "outputs": [],
   "source": [
    "x = layers.Flatten()(vgg.output)\n",
    "# x = Dense(1000, activation='relu')(x)\n",
    "prediction = layers.Dense(num_classes, activation='softmax')(x)\n",
    "\n",
    "# create a model object\n",
    "model = models.Model(inputs=vgg.input, outputs=prediction)"
   ]
  }
 ],
 "metadata": {
  "kernelspec": {
   "display_name": "Python 3",
   "language": "python",
   "name": "python3"
  },
  "language_info": {
   "codemirror_mode": {
    "name": "ipython",
    "version": 3
   },
   "file_extension": ".py",
   "mimetype": "text/x-python",
   "name": "python",
   "nbconvert_exporter": "python",
   "pygments_lexer": "ipython3",
   "version": "3.6.8"
  }
 },
 "nbformat": 4,
 "nbformat_minor": 2
}
