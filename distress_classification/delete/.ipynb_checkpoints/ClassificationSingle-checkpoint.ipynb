{
 "cells": [
  {
   "cell_type": "markdown",
   "metadata": {},
   "source": [
    "# CRACK Clssification using GAPS DATASET"
   ]
  },
  {
   "cell_type": "markdown",
   "metadata": {},
   "source": [
    "## IMPORT LIBRARIES"
   ]
  },
  {
   "cell_type": "code",
   "execution_count": 1,
   "metadata": {},
   "outputs": [],
   "source": [
    "from __future__ import print_function\n",
    "#import readdata\n",
    "from tensorflow import keras\n",
    "#from keras.preprocessing.image import ImageDataGenerator\n",
    "from tensorflow.keras.preprocessing.image import ImageDataGenerator\n",
    "from sklearn.model_selection import GridSearchCV\n",
    "import matplotlib.pyplot as plt\n",
    "import os"
   ]
  },
  {
   "cell_type": "markdown",
   "metadata": {},
   "source": [
    "## LOAD DATA"
   ]
  },
  {
   "cell_type": "markdown",
   "metadata": {},
   "source": [
    "# v2 6-classes 256"
   ]
  },
  {
   "cell_type": "code",
   "execution_count": 3,
   "metadata": {},
   "outputs": [
    {
     "name": "stdout",
     "output_type": "stream",
     "text": [
      "in the gaps v2 ZEB256\n",
      "max tr = 25, max va = 5, max te = 5\n",
      "low-load data in process\n",
      "current: tr:2, va:1, te:1\n",
      "loading 1 chunk  out of 2 of training in v2 gaps\n",
      "loading 2 chunk  out of 2 of training in v2 gaps\n",
      "loading 1 chunk  out of 1 of valid in v2 gaps\n",
      "loading 1 chunk  out of 1 of test in v2 gaps\n",
      "data name  is: gaps v2 ZEB256\n",
      "input shape is : (256, 256, 3)\n",
      "train num is : 4000\n",
      "valid num is : 2000\n",
      "test  num is : 2000\n",
      "number of classes are : 6\n"
     ]
    }
   ],
   "source": [
    "from importlib.machinery import SourceFileLoader\n",
    "MODULENAME = \"loadgaps\"\n",
    "MODULEPATH = \"/home/ali/my_project/large_files/gaps/loadgaps.py\"\n",
    "lgaps = SourceFileLoader(MODULENAME, MODULEPATH).load_module()\n",
    "\n",
    "x_train, y_train, x_valid, y_valid, x_test, y_test = lgaps.loadv2_ZEB256(load = 'low')"
   ]
  },
  {
   "cell_type": "markdown",
   "metadata": {},
   "source": [
    "# v1 binary 64"
   ]
  },
  {
   "cell_type": "markdown",
   "metadata": {},
   "source": [
    "## BUILD MODEL"
   ]
  },
  {
   "cell_type": "code",
   "execution_count": 4,
   "metadata": {},
   "outputs": [
    {
     "name": "stdout",
     "output_type": "stream",
     "text": [
      "{'1': '2CCP_1FDD', '2': 'DUPLICATE', '3': 'Transfer_learning_vgg'}\n"
     ]
    }
   ],
   "source": [
    "model_archive = {\n",
    "                '1' : '2CCP_1FDD',\n",
    "                '2' : 'DUPLICATE',\n",
    "                '3' : 'Transfer_learning_vgg'\n",
    "                    }\n",
    "print(model_archive)"
   ]
  },
  {
   "cell_type": "code",
   "execution_count": 5,
   "metadata": {},
   "outputs": [
    {
     "name": "stdout",
     "output_type": "stream",
     "text": [
      "last change\n",
      "X current model is: model_1_2CCP_1FDD\n",
      "Model: \"sequential\"\n",
      "_________________________________________________________________\n",
      "Layer (type)                 Output Shape              Param #   \n",
      "=================================================================\n",
      "conv2d (Conv2D)              (None, 256, 256, 32)      896       \n",
      "_________________________________________________________________\n",
      "activation (Activation)      (None, 256, 256, 32)      0         \n",
      "_________________________________________________________________\n",
      "conv2d_1 (Conv2D)            (None, 254, 254, 32)      9248      \n",
      "_________________________________________________________________\n",
      "activation_1 (Activation)    (None, 254, 254, 32)      0         \n",
      "_________________________________________________________________\n",
      "max_pooling2d (MaxPooling2D) (None, 127, 127, 32)      0         \n",
      "_________________________________________________________________\n",
      "dropout (Dropout)            (None, 127, 127, 32)      0         \n",
      "_________________________________________________________________\n",
      "conv2d_2 (Conv2D)            (None, 127, 127, 64)      18496     \n",
      "_________________________________________________________________\n",
      "activation_2 (Activation)    (None, 127, 127, 64)      0         \n",
      "_________________________________________________________________\n",
      "conv2d_3 (Conv2D)            (None, 125, 125, 64)      36928     \n",
      "_________________________________________________________________\n",
      "activation_3 (Activation)    (None, 125, 125, 64)      0         \n",
      "_________________________________________________________________\n",
      "max_pooling2d_1 (MaxPooling2 (None, 62, 62, 64)        0         \n",
      "_________________________________________________________________\n",
      "dropout_1 (Dropout)          (None, 62, 62, 64)        0         \n",
      "_________________________________________________________________\n",
      "flatten (Flatten)            (None, 246016)            0         \n",
      "_________________________________________________________________\n",
      "dense (Dense)                (None, 512)               125960704 \n",
      "_________________________________________________________________\n",
      "activation_4 (Activation)    (None, 512)               0         \n",
      "_________________________________________________________________\n",
      "dropout_2 (Dropout)          (None, 512)               0         \n",
      "_________________________________________________________________\n",
      "dense_1 (Dense)              (None, 6)                 3078      \n",
      "_________________________________________________________________\n",
      "activation_5 (Activation)    (None, 6)                 0         \n",
      "=================================================================\n",
      "Total params: 126,029,350\n",
      "Trainable params: 126,029,350\n",
      "Non-trainable params: 0\n",
      "_________________________________________________________________\n"
     ]
    }
   ],
   "source": [
    "import readmodel\n",
    "model_name = 'model_1' # 'model_1', 'model_2', or model_3\n",
    "input_shape = x_train[0,:,:,:].shape\n",
    "num_classes = y_train.shape[1]\n",
    "model = readmodel.modelchoose(model_name,input_shape, num_classes)\n",
    "model.summary()"
   ]
  },
  {
   "cell_type": "markdown",
   "metadata": {},
   "source": [
    "## COMPILE MODEL"
   ]
  },
  {
   "cell_type": "code",
   "execution_count": 6,
   "metadata": {},
   "outputs": [
    {
     "name": "stdout",
     "output_type": "stream",
     "text": [
      "6\n",
      "categorical_crossentropy\n"
     ]
    }
   ],
   "source": [
    "# initiate RMSprop optimizer\n",
    "opt = keras.optimizers.RMSprop(learning_rate=0.01, decay=1e-6)\n",
    "\n",
    "print(num_classes)\n",
    "# Let's train the model using RMSprop\n",
    "if num_classes == 2:\n",
    "    loss = 'binary_crossentropy'\n",
    "if num_classes == 6:\n",
    "    loss = 'categorical_crossentropy'\n",
    "    \n",
    "print(loss)\n",
    "\n",
    "model.compile( loss = loss, # loss='categorical_crossentropy',\n",
    "              optimizer=opt,\n",
    "              metrics=['accuracy'])"
   ]
  },
  {
   "cell_type": "markdown",
   "metadata": {},
   "source": [
    " ## GENERATE IMAGES"
   ]
  },
  {
   "cell_type": "code",
   "execution_count": null,
   "metadata": {},
   "outputs": [],
   "source": [
    "# create an instance of ImageDataGenerator\n",
    "datagen = ImageDataGenerator(\n",
    "    featurewise_center=True,\n",
    "    featurewise_std_normalization=True,\n",
    "    rotation_range=20,\n",
    "    width_shift_range=0.1,\n",
    "    height_shift_range=0.1,\n",
    "    shear_range=0.1,\n",
    "    zoom_range=0.2,\n",
    "    horizontal_flip=True,\n",
    "    vertical_flip=True\n",
    ")\n",
    "\n",
    "\n",
    "# compute quantities required for featurewise normalization\n",
    "# (std, mean, and principal components if ZCA whitening is applied)\n",
    "datagen.fit(x_train)"
   ]
  },
  {
   "cell_type": "markdown",
   "metadata": {},
   "source": [
    "## HYPERPARAMETERS"
   ]
  },
  {
   "cell_type": "code",
   "execution_count": 8,
   "metadata": {},
   "outputs": [],
   "source": [
    "epochs = 5 # 200\n",
    "batch_size = 50\n",
    "#num_classes = y_train_binary.shape[1]\n"
   ]
  },
  {
   "cell_type": "markdown",
   "metadata": {},
   "source": [
    "## FIT DATA TO MODEL using IMG GENERATOR"
   ]
  },
  {
   "cell_type": "code",
   "execution_count": null,
   "metadata": {},
   "outputs": [],
   "source": [
    "# fits the model on batches with real-time data augmentation:\n",
    "history = model.fit_generator(datagen.flow(x_train, y_train_binary, batch_size=batch_size),\n",
    "                    epochs=epochs, \n",
    "                    steps_per_epoch=len(x_train) / batch_size,\n",
    "                    validation_data=(x_valid, y_valid_binary),\n",
    "                    shuffle=True)\n",
    "                    "
   ]
  },
  {
   "cell_type": "markdown",
   "metadata": {},
   "source": [
    "## FIT DATA to MODEL w/o IMG GENRATOR"
   ]
  },
  {
   "cell_type": "code",
   "execution_count": 9,
   "metadata": {},
   "outputs": [
    {
     "name": "stdout",
     "output_type": "stream",
     "text": [
      "Train on 4000 samples, validate on 2000 samples\n",
      "Epoch 1/5\n",
      "4000/4000 [==============================] - 36s 9ms/sample - loss: 5388.5378 - accuracy: 0.5688 - val_loss: 1.2164 - val_accuracy: 0.5920\n",
      "Epoch 2/5\n",
      "4000/4000 [==============================] - 32s 8ms/sample - loss: 1.3841 - accuracy: 0.5945 - val_loss: 1.2133 - val_accuracy: 0.5920\n",
      "Epoch 3/5\n",
      "4000/4000 [==============================] - 32s 8ms/sample - loss: 1.1882 - accuracy: 0.6095 - val_loss: 1.2123 - val_accuracy: 0.5920\n",
      "Epoch 4/5\n",
      "4000/4000 [==============================] - 32s 8ms/sample - loss: 1.1864 - accuracy: 0.6097 - val_loss: 1.2164 - val_accuracy: 0.5920\n",
      "Epoch 5/5\n",
      "4000/4000 [==============================] - 32s 8ms/sample - loss: 1.1895 - accuracy: 0.6093 - val_loss: 1.2144 - val_accuracy: 0.5920\n"
     ]
    }
   ],
   "source": [
    "\n",
    "history_2 = model.fit(x_train, y_train,\n",
    "              batch_size=batch_size,\n",
    "              epochs=epochs,\n",
    "              validation_data=(x_valid, y_valid),\n",
    "              shuffle=True)"
   ]
  },
  {
   "cell_type": "markdown",
   "metadata": {},
   "source": [
    "## MODEL SCORE"
   ]
  },
  {
   "cell_type": "code",
   "execution_count": 10,
   "metadata": {},
   "outputs": [
    {
     "name": "stdout",
     "output_type": "stream",
     "text": [
      "2000/1 - 5s - loss: 1.0146 - accuracy: 0.6045\n",
      "Test loss: 1.159772804260254\n",
      "Test accuracy: 0.6045\n"
     ]
    }
   ],
   "source": [
    "scores = model.evaluate(x_test, y_test, verbose=2)\n",
    "print('Test loss:', scores[0])\n",
    "print('Test accuracy:', scores[1])"
   ]
  },
  {
   "cell_type": "markdown",
   "metadata": {},
   "source": [
    "## ACCURACY & VAL vs EPOCHS PLOTS"
   ]
  },
  {
   "cell_type": "code",
   "execution_count": 11,
   "metadata": {},
   "outputs": [],
   "source": [
    "history = history_2"
   ]
  },
  {
   "cell_type": "code",
   "execution_count": 12,
   "metadata": {},
   "outputs": [
    {
     "data": {
      "text/plain": [
       "<matplotlib.legend.Legend at 0x7fb6d53c46a0>"
      ]
     },
     "execution_count": 12,
     "metadata": {},
     "output_type": "execute_result"
    },
    {
     "data": {
      "image/png": "[encoded data removed]",
      "text/plain": [
       "<Figure size 432x288 with 1 Axes>"
      ]
     },
     "metadata": {
      "needs_background": "light"
     },
     "output_type": "display_data"
    }
   ],
   "source": [
    "plt.plot(history.history['accuracy'], label='accuracy')\n",
    "plt.plot(history.history['val_accuracy'], label = 'val_accuracy')\n",
    "plt.xlabel('Epoch')\n",
    "plt.ylabel('Accuracy')\n",
    "plt.ylim([0.5, 1])\n",
    "plt.legend(loc='lower right')"
   ]
  },
  {
   "cell_type": "markdown",
   "metadata": {},
   "source": [
    "## SAVE MODEL and WEIGHTS"
   ]
  },
  {
   "cell_type": "code",
   "execution_count": 13,
   "metadata": {},
   "outputs": [
    {
     "name": "stdout",
     "output_type": "stream",
     "text": [
      "model_1_epochs_5_batchsize_50.h5\n"
     ]
    }
   ],
   "source": [
    "model_weight_name = model_name + f'_epochs_{epochs}_batchsize_{batch_size}.h5'\n",
    "print(model_weight_name)"
   ]
  },
  {
   "cell_type": "code",
   "execution_count": 14,
   "metadata": {},
   "outputs": [
    {
     "data": {
      "text/plain": [
       "'/home/ali/my_project/gaps'"
      ]
     },
     "execution_count": 14,
     "metadata": {},
     "output_type": "execute_result"
    }
   ],
   "source": [
    "os.getcwd()"
   ]
  },
  {
   "cell_type": "code",
   "execution_count": null,
   "metadata": {},
   "outputs": [],
   "source": []
  },
  {
   "cell_type": "code",
   "execution_count": 15,
   "metadata": {},
   "outputs": [
    {
     "name": "stdout",
     "output_type": "stream",
     "text": [
      "Saved trained model at /home/ali/my_project/gaps/saved_models/model_1_epochs_5_batchsize_50.h5 \n"
     ]
    }
   ],
   "source": [
    "# Save model and weights\n",
    "#model_name = 'gaps_model_1.h5'\n",
    "model_weight_name = model_name + f'_epochs_{epochs}_batchsize_{batch_size}.h5'\n",
    "\n",
    "#os.getcwd()\n",
    "# save_dir = os.path.join(os.getcwd(), 'saved_models')\n",
    "save_dir = '/home/ali/my_project/gaps/saved_models'\n",
    "model_path = os.path.join(save_dir, model_weight_name)\n",
    "model.save(model_path)\n",
    "print('Saved trained model at %s ' % model_path)"
   ]
  },
  {
   "cell_type": "markdown",
   "metadata": {},
   "source": [
    "# GRID SEARCH"
   ]
  },
  {
   "cell_type": "markdown",
   "metadata": {},
   "source": [
    "## GRID SEARCH FIT for H_PARAM TUNNING"
   ]
  },
  {
   "cell_type": "code",
   "execution_count": null,
   "metadata": {},
   "outputs": [],
   "source": [
    "from sklearn.model_selection import GridSearchCV\n",
    "from tensorflow.keras.wrappers.scikit_learn import KerasClassifier\n",
    "\n",
    "def create_model(model_name):\n",
    "    #model_name = 'model_3' # 'model_1', 'model_2', 'model_3'\n",
    "    model = readmodel.modelchoose(model_name,input_shape, num_classes)\n",
    "\n",
    "    model.compile(loss='mean_squared_error',\n",
    "              optimizer='sgd',\n",
    "              metrics=['accuracy'])\n",
    "    \n",
    "    return model\n",
    "\n",
    "modelC = KerasClassifier(build_fn=create_model, verbose=2)\n",
    "\n",
    "# using grid search\n",
    "# initiate RMSprop optimizer\n",
    "opt = keras.optimizers.RMSprop(learning_rate=0.01, decay=1e-6)\n",
    "\n",
    "epochs = [2]\n",
    "model_name = ['model_1', 'model_3']\n",
    "\n",
    "param_grid = dict(model_name = model_name)\n",
    "\n",
    "grid = GridSearchCV(estimator = modelC , param_grid=param_grid)\n",
    "grid_result = grid.fit(x_train, y_train_binary)"
   ]
  },
  {
   "cell_type": "markdown",
   "metadata": {},
   "source": [
    "## GRID SEARCH RESULTS"
   ]
  },
  {
   "cell_type": "code",
   "execution_count": null,
   "metadata": {},
   "outputs": [],
   "source": [
    "print(\"Best: %f using %s\" % (grid_result.best_score_, grid_result.best_params_))\n",
    "means = grid_result.cv_results_['mean_test_score']\n",
    "stds = grid_result.cv_results_['std_test_score']\n",
    "params = grid_result.cv_results_['params']\n",
    "for mean, stdev, param in zip(means, stds, params):\n",
    "    print(\"%f (%f) with: %r\" % (mean, stdev, param))"
   ]
  },
  {
   "cell_type": "code",
   "execution_count": null,
   "metadata": {},
   "outputs": [],
   "source": [
    "history = grid_result.best_estimator_.model.history\n",
    "\n",
    "plt.plot(history.history['accuracy'], label='accuracy')\n",
    "plt.plot(history.history['loss'], label = 'loss')\n",
    "plt.xlabel('Epoch')\n",
    "plt.ylabel('Accuracy')\n",
    "plt.ylim([0.5, 1])\n",
    "plt.legend(loc='lower right')"
   ]
  },
  {
   "cell_type": "code",
   "execution_count": null,
   "metadata": {},
   "outputs": [],
   "source": [
    "history.history"
   ]
  },
  {
   "cell_type": "code",
   "execution_count": null,
   "metadata": {},
   "outputs": [],
   "source": []
  }
 ],
 "metadata": {
  "kernelspec": {
   "display_name": "Python 3",
   "language": "python",
   "name": "python3"
  },
  "language_info": {
   "codemirror_mode": {
    "name": "ipython",
    "version": 3
   },
   "file_extension": ".py",
   "mimetype": "text/x-python",
   "name": "python",
   "nbconvert_exporter": "python",
   "pygments_lexer": "ipython3",
   "version": "3.6.8"
  }
 },
 "nbformat": 4,
 "nbformat_minor": 2
}
