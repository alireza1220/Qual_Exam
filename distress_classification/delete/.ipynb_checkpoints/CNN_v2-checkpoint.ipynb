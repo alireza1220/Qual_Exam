{
 "cells": [
  {
   "cell_type": "code",
   "execution_count": 1,
   "metadata": {},
   "outputs": [],
   "source": [
    "from __future__ import print_function\n",
    "import readdata\n",
    "import readmodel\n",
    "from tensorflow import keras\n",
    "import matplotlib.pyplot as plt\n",
    "import os"
   ]
  },
  {
   "cell_type": "code",
   "execution_count": 2,
   "metadata": {},
   "outputs": [
    {
     "name": "stdout",
     "output_type": "stream",
     "text": [
      "loading 1 chunk  out of 1 of training in v1 gaps --- MAX 154\n",
      "loading 1 chunk out of 1  of validation in v1 gaps --- MAX 7\n",
      "loading 1 chunk out of 1 of test in v1 gaps --- MAX 26\n",
      "data name  is: gaps_v1_64\n",
      "x_train shape: (32000, 64, 64, 3)\n",
      "32000 train samples\n",
      "32000 valid samples\n",
      "32000 test samples\n",
      "input shape is : (64, 64, 3)\n",
      "number of classes are : 2\n"
     ]
    }
   ],
   "source": [
    "# importing data\n",
    "x_train, y_train_binary, x_valid, y_valid_binary, x_test, y_test_binary, data_name = readdata.gapv164(tr = 1, val = 1, te = 1)\n",
    "input_shape = x_train[0,:,:,:].shape\n",
    "print(f'input shape is : {input_shape}')\n",
    "num_classes = y_train_binary.shape[1]\n",
    "print(f'number of classes are : {num_classes}')"
   ]
  },
  {
   "cell_type": "code",
   "execution_count": 3,
   "metadata": {},
   "outputs": [
    {
     "name": "stdout",
     "output_type": "stream",
     "text": [
      "Transfer_learning_vgg\n",
      "Model: \"model\"\n",
      "_________________________________________________________________\n",
      "Layer (type)                 Output Shape              Param #   \n",
      "=================================================================\n",
      "input_1 (InputLayer)         [(None, 64, 64, 3)]       0         \n",
      "_________________________________________________________________\n",
      "block1_conv1 (Conv2D)        (None, 64, 64, 64)        1792      \n",
      "_________________________________________________________________\n",
      "block1_conv2 (Conv2D)        (None, 64, 64, 64)        36928     \n",
      "_________________________________________________________________\n",
      "block1_pool (MaxPooling2D)   (None, 32, 32, 64)        0         \n",
      "_________________________________________________________________\n",
      "block2_conv1 (Conv2D)        (None, 32, 32, 128)       73856     \n",
      "_________________________________________________________________\n",
      "block2_conv2 (Conv2D)        (None, 32, 32, 128)       147584    \n",
      "_________________________________________________________________\n",
      "block2_pool (MaxPooling2D)   (None, 16, 16, 128)       0         \n",
      "_________________________________________________________________\n",
      "block3_conv1 (Conv2D)        (None, 16, 16, 256)       295168    \n",
      "_________________________________________________________________\n",
      "block3_conv2 (Conv2D)        (None, 16, 16, 256)       590080    \n",
      "_________________________________________________________________\n",
      "block3_conv3 (Conv2D)        (None, 16, 16, 256)       590080    \n",
      "_________________________________________________________________\n",
      "block3_pool (MaxPooling2D)   (None, 8, 8, 256)         0         \n",
      "_________________________________________________________________\n",
      "block4_conv1 (Conv2D)        (None, 8, 8, 512)         1180160   \n",
      "_________________________________________________________________\n",
      "block4_conv2 (Conv2D)        (None, 8, 8, 512)         2359808   \n",
      "_________________________________________________________________\n",
      "block4_conv3 (Conv2D)        (None, 8, 8, 512)         2359808   \n",
      "_________________________________________________________________\n",
      "block4_pool (MaxPooling2D)   (None, 4, 4, 512)         0         \n",
      "_________________________________________________________________\n",
      "block5_conv1 (Conv2D)        (None, 4, 4, 512)         2359808   \n",
      "_________________________________________________________________\n",
      "block5_conv2 (Conv2D)        (None, 4, 4, 512)         2359808   \n",
      "_________________________________________________________________\n",
      "block5_conv3 (Conv2D)        (None, 4, 4, 512)         2359808   \n",
      "_________________________________________________________________\n",
      "block5_pool (MaxPooling2D)   (None, 2, 2, 512)         0         \n",
      "_________________________________________________________________\n",
      "flatten (Flatten)            (None, 2048)              0         \n",
      "_________________________________________________________________\n",
      "dense (Dense)                (None, 2)                 4098      \n",
      "=================================================================\n",
      "Total params: 14,718,786\n",
      "Trainable params: 4,098\n",
      "Non-trainable params: 14,714,688\n",
      "_________________________________________________________________\n"
     ]
    }
   ],
   "source": [
    "# import the model\n",
    "model_name = 'model_3' # 'model_1', 'model_2', or model_3\n",
    "model = readmodel.modelchoose(model_name,input_shape, num_classes)\n",
    "model.summary()"
   ]
  },
  {
   "cell_type": "code",
   "execution_count": 32,
   "metadata": {},
   "outputs": [],
   "source": [
    "epochs = 20\n",
    "batch_size = 2500\n",
    "#num_classes = y_train_binary.shape[1]\n",
    "model_name = 'gaps_model_1.h5'"
   ]
  },
  {
   "cell_type": "code",
   "execution_count": 33,
   "metadata": {},
   "outputs": [],
   "source": [
    "# initiate RMSprop optimizer\n",
    "opt = keras.optimizers.RMSprop(learning_rate=0.0001, decay=1e-6)\n",
    "\n",
    "# Let's train the model using RMSprop\n",
    "model.compile( loss = 'binary_crossentropy', # loss='categorical_crossentropy',\n",
    "              optimizer=opt,\n",
    "              metrics=['accuracy'])"
   ]
  },
  {
   "cell_type": "code",
   "execution_count": 34,
   "metadata": {},
   "outputs": [
    {
     "name": "stdout",
     "output_type": "stream",
     "text": [
      "Train on 32000 samples, validate on 32000 samples\n",
      "Epoch 1/20\n",
      "32000/32000 [==============================] - 30s 950us/sample - loss: 0.2627 - accuracy: 0.9035 - val_loss: 0.4264 - val_accuracy: 0.8144\n",
      "Epoch 2/20\n",
      "32000/32000 [==============================] - 30s 932us/sample - loss: 0.2617 - accuracy: 0.9044 - val_loss: 0.4305 - val_accuracy: 0.8100\n",
      "Epoch 3/20\n",
      "32000/32000 [==============================] - 30s 933us/sample - loss: 0.2608 - accuracy: 0.9047 - val_loss: 0.4277 - val_accuracy: 0.8124\n",
      "Epoch 4/20\n",
      "32000/32000 [==============================] - 30s 935us/sample - loss: 0.2599 - accuracy: 0.9053 - val_loss: 0.4287 - val_accuracy: 0.8113\n",
      "Epoch 5/20\n",
      "32000/32000 [==============================] - 30s 938us/sample - loss: 0.2592 - accuracy: 0.9054 - val_loss: 0.4274 - val_accuracy: 0.8122\n",
      "Epoch 6/20\n",
      "32000/32000 [==============================] - 30s 938us/sample - loss: 0.2585 - accuracy: 0.9055 - val_loss: 0.4242 - val_accuracy: 0.8145\n",
      "Epoch 7/20\n",
      "32000/32000 [==============================] - 30s 938us/sample - loss: 0.2578 - accuracy: 0.9061 - val_loss: 0.4244 - val_accuracy: 0.8145\n",
      "Epoch 8/20\n",
      "32000/32000 [==============================] - 30s 938us/sample - loss: 0.2571 - accuracy: 0.9064 - val_loss: 0.4218 - val_accuracy: 0.8160\n",
      "Epoch 9/20\n",
      "32000/32000 [==============================] - 30s 939us/sample - loss: 0.2565 - accuracy: 0.9065 - val_loss: 0.4234 - val_accuracy: 0.8148\n",
      "Epoch 10/20\n",
      "32000/32000 [==============================] - 30s 938us/sample - loss: 0.2558 - accuracy: 0.9069 - val_loss: 0.4214 - val_accuracy: 0.8164\n",
      "Epoch 11/20\n",
      "32000/32000 [==============================] - 30s 938us/sample - loss: 0.2551 - accuracy: 0.9069 - val_loss: 0.4209 - val_accuracy: 0.8165\n",
      "Epoch 12/20\n",
      "32000/32000 [==============================] - 30s 939us/sample - loss: 0.2544 - accuracy: 0.9077 - val_loss: 0.4205 - val_accuracy: 0.8167\n",
      "Epoch 13/20\n",
      "32000/32000 [==============================] - 30s 938us/sample - loss: 0.2539 - accuracy: 0.9076 - val_loss: 0.4176 - val_accuracy: 0.8187\n",
      "Epoch 14/20\n",
      "32000/32000 [==============================] - 30s 939us/sample - loss: 0.2532 - accuracy: 0.9080 - val_loss: 0.4179 - val_accuracy: 0.8184\n",
      "Epoch 15/20\n",
      "32000/32000 [==============================] - 30s 938us/sample - loss: 0.2528 - accuracy: 0.9084 - val_loss: 0.4177 - val_accuracy: 0.8185\n",
      "Epoch 16/20\n",
      "32000/32000 [==============================] - 30s 941us/sample - loss: 0.2521 - accuracy: 0.9083 - val_loss: 0.4138 - val_accuracy: 0.8217\n",
      "Epoch 17/20\n",
      "32000/32000 [==============================] - 30s 940us/sample - loss: 0.2517 - accuracy: 0.9083 - val_loss: 0.4151 - val_accuracy: 0.8202\n",
      "Epoch 18/20\n",
      "32000/32000 [==============================] - 30s 941us/sample - loss: 0.2511 - accuracy: 0.9088 - val_loss: 0.4163 - val_accuracy: 0.8193\n",
      "Epoch 19/20\n",
      "32000/32000 [==============================] - 30s 940us/sample - loss: 0.2506 - accuracy: 0.9089 - val_loss: 0.4140 - val_accuracy: 0.8207\n",
      "Epoch 20/20\n",
      "32000/32000 [==============================] - 30s 939us/sample - loss: 0.2501 - accuracy: 0.9092 - val_loss: 0.4109 - val_accuracy: 0.8233\n"
     ]
    }
   ],
   "source": [
    "history = model.fit(x_train, y_train_binary,\n",
    "              batch_size=batch_size,\n",
    "              epochs=epochs,\n",
    "              validation_data=(x_valid, y_valid_binary),\n",
    "              shuffle=True)"
   ]
  },
  {
   "cell_type": "code",
   "execution_count": 35,
   "metadata": {},
   "outputs": [
    {
     "name": "stdout",
     "output_type": "stream",
     "text": [
      "32000/1 - 20s - loss: 0.1517 - accuracy: 0.9604\n",
      "Test loss: 0.18680257734656333\n",
      "Test accuracy: 0.9604375\n"
     ]
    }
   ],
   "source": [
    "# Score trained model.\n",
    "scores = model.evaluate(x_test, y_test_binary, verbose=2)\n",
    "print('Test loss:', scores[0])\n",
    "print('Test accuracy:', scores[1])"
   ]
  },
  {
   "cell_type": "code",
   "execution_count": 36,
   "metadata": {},
   "outputs": [
    {
     "data": {
      "text/plain": [
       "<matplotlib.legend.Legend at 0x7fd4739a65f8>"
      ]
     },
     "execution_count": 36,
     "metadata": {},
     "output_type": "execute_result"
    },
    {
     "data": {
      "image/png": "[encoded data removed]",
      "text/plain": [
       "<Figure size 432x288 with 1 Axes>"
      ]
     },
     "metadata": {
      "needs_background": "light"
     },
     "output_type": "display_data"
    }
   ],
   "source": [
    "plt.plot(history.history['accuracy'], label='accuracy')\n",
    "plt.plot(history.history['val_accuracy'], label = 'val_accuracy')\n",
    "plt.xlabel('Epoch')\n",
    "plt.ylabel('Accuracy')\n",
    "plt.ylim([0.5, 1])\n",
    "plt.legend(loc='lower right')\n",
    "\n"
   ]
  },
  {
   "cell_type": "code",
   "execution_count": 37,
   "metadata": {},
   "outputs": [
    {
     "name": "stdout",
     "output_type": "stream",
     "text": [
      "Saved trained model at /home/ali/my_project/gaps/saved_models/gaps_model_1.h5 \n"
     ]
    }
   ],
   "source": [
    "# Save model and weights\n",
    "os.getcwd()\n",
    "save_dir = os.path.join(os.getcwd(), 'saved_models')\n",
    "model_path = os.path.join(save_dir, model_name)\n",
    "model.save(model_path)\n",
    "print('Saved trained model at %s ' % model_path)"
   ]
  },
  {
   "cell_type": "code",
   "execution_count": null,
   "metadata": {},
   "outputs": [],
   "source": []
  }
 ],
 "metadata": {
  "kernelspec": {
   "display_name": "Python 3",
   "language": "python",
   "name": "python3"
  },
  "language_info": {
   "codemirror_mode": {
    "name": "ipython",
    "version": 3
   },
   "file_extension": ".py",
   "mimetype": "text/x-python",
   "name": "python",
   "nbconvert_exporter": "python",
   "pygments_lexer": "ipython3",
   "version": "3.6.8"
  }
 },
 "nbformat": 4,
 "nbformat_minor": 2
}
