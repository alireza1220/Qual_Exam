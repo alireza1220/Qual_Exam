{
 "cells": [
  {
   "cell_type": "code",
   "execution_count": 1,
   "metadata": {},
   "outputs": [
    {
     "name": "stdout",
     "output_type": "stream",
     "text": [
      "loading 1 chunk  out of 1 of training in v1 gaps --- MAX 154\n",
      "loading 1 chunk out of 1  of validation in v1 gaps --- MAX 7\n",
      "loading 1 chunk out of 1 of test in v1 gaps --- MAX 26\n",
      "data name  is: gaps_v1_64\n",
      "x_train shape: (32000, 64, 64, 3)\n",
      "32000 train samples\n",
      "32000 valid samples\n",
      "32000 test samples\n"
     ]
    }
   ],
   "source": [
    "# importing data\n",
    "import readdata\n",
    "x_train, y_train_binary, x_valid, y_valid_binary, x_test, y_test_binary, data_name = readdata.gapv164(tr = 1, val = 1, te = 1)"
   ]
  },
  {
   "cell_type": "code",
   "execution_count": 2,
   "metadata": {},
   "outputs": [],
   "source": [
    "input_shape = x_train[0,:,:,:].shape"
   ]
  },
  {
   "cell_type": "code",
   "execution_count": 3,
   "metadata": {},
   "outputs": [
    {
     "name": "stdout",
     "output_type": "stream",
     "text": [
      "(64, 64, 3)\n"
     ]
    }
   ],
   "source": [
    "print(input_shape)"
   ]
  },
  {
   "cell_type": "code",
   "execution_count": 7,
   "metadata": {},
   "outputs": [
    {
     "name": "stdout",
     "output_type": "stream",
     "text": [
      "2\n"
     ]
    }
   ],
   "source": [
    "num_classes = 2\n",
    "print(num_classes)"
   ]
  },
  {
   "cell_type": "code",
   "execution_count": 9,
   "metadata": {},
   "outputs": [],
   "source": [
    "model_name1 = 'Transfer_learning_vgg'\n",
    "# add preprocessing layer to the front of VGG\n",
    "from tensorflow.keras.applications.vgg16 import VGG16\n",
    "from tensorflow.keras import layers, models\n",
    "\n",
    "# re-size all the images to this\n",
    "input_shape = (64, 64, 3) # feel free to change depending on dataset\n",
    "vgg = VGG16(input_shape= input_shape , weights='imagenet', include_top=False)\n",
    "for layer in vgg.layers:\n",
    "    layer.trainable = False\n",
    "x = layers.Flatten()(vgg.output)\n",
    "# x = Dense(1000, activation='relu')(x)\n",
    "prediction = layers.Dense(num_classes, activation='softmax')(x)\n",
    "model = models.Model(inputs=vgg.input, outputs=prediction)\n",
    "\n"
   ]
  },
  {
   "cell_type": "code",
   "execution_count": null,
   "metadata": {},
   "outputs": [],
   "source": []
  }
 ],
 "metadata": {
  "kernelspec": {
   "display_name": "Python 3",
   "language": "python",
   "name": "python3"
  },
  "language_info": {
   "codemirror_mode": {
    "name": "ipython",
    "version": 3
   },
   "file_extension": ".py",
   "mimetype": "text/x-python",
   "name": "python",
   "nbconvert_exporter": "python",
   "pygments_lexer": "ipython3",
   "version": "3.6.8"
  }
 },
 "nbformat": 4,
 "nbformat_minor": 2
}
