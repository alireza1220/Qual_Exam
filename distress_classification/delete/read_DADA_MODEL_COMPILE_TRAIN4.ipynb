{
 "cells": [
  {
   "cell_type": "markdown",
   "metadata": {},
   "source": [
    "## Code Developed by Alireza Mounesisohi\n",
    "## Email: amounesisohi@ucdavis.edu"
   ]
  },
  {
   "cell_type": "markdown",
   "metadata": {},
   "source": [
    "# Run Name"
   ]
  },
  {
   "cell_type": "code",
   "execution_count": 1,
   "metadata": {},
   "outputs": [
    {
     "name": "stdout",
     "output_type": "stream",
     "text": [
      "Enter a name for this run --no \"\" mark pls:jk\n"
     ]
    }
   ],
   "source": [
    "RUN_NAME = input('Enter a name for this run --no \"\" mark pls:')"
   ]
  },
  {
   "cell_type": "markdown",
   "metadata": {},
   "source": [
    "## Load Gaps V2 Dataset"
   ]
  },
  {
   "cell_type": "code",
   "execution_count": 2,
   "metadata": {},
   "outputs": [
    {
     "name": "stdout",
     "output_type": "stream",
     "text": [
      "loading 1 chunk  out of 7 of training in v2 gaps\n",
      "loading 2 chunk  out of 7 of training in v2 gaps\n",
      "loading 3 chunk  out of 7 of training in v2 gaps\n",
      "loading 4 chunk  out of 7 of training in v2 gaps\n",
      "loading 5 chunk  out of 7 of training in v2 gaps\n",
      "loading 6 chunk  out of 7 of training in v2 gaps\n",
      "loading 7 chunk  out of 7 of training in v2 gaps\n",
      "loading 1 chunk  out of 2 of valid in v2 gaps\n",
      "loading 2 chunk  out of 2 of valid in v2 gaps\n",
      "loading 1 chunk  out of 2 of test in v2 gaps\n",
      "loading 2 chunk  out of 2 of test in v2 gaps\n",
      "input shape  : (1, 128, 128)\n",
      "train num is : 50000\n",
      "valid num is : 10000\n",
      "test  num is : 10000\n"
     ]
    }
   ],
   "source": [
    "from importlib.machinery import SourceFileLoader\n",
    "MODULENAME = \"loadgaps\"\n",
    "MODULEPATH = \"/home/ali/my_project/large_files/gaps/loadgaps.py\"\n",
    "lgaps = SourceFileLoader(MODULENAME, MODULEPATH).load_module()\n",
    "\n",
    "\"\"\"\n",
    "(64,  2,  1, 1)\n",
    "(96,  4,  1, 1)\n",
    "(128, 7,  2, 2)\n",
    "(160, 10, 2, 2)\n",
    "(192, 15, 3, 3)\n",
    "(224, 20, 4, 4)\n",
    "(256, 25, 5, 5)\n",
    "\"\"\"\n",
    "(set_p, tr_p, va_p, te_p) = (128, 7,  2, 2)\n",
    "issue_input='ZEB_50k'# ['NORMvsDISTRESS_50k', 'ZEB_50k']\n",
    "\n",
    "x_train, y_train, x_valid, y_valid, x_test, y_test = lgaps.loadv2(\n",
    "                                                patch_size_input= set_p,# [64, 96, 128, 160, 192, 224, 256]\n",
    "                                                issue_input     =issue_input,  # ['NORMvsDISTRESS_50k', 'ZEB_50k']\n",
    "                                                v2_tr_patch_num = tr_p,\n",
    "                                                v2_va_patch_num = va_p,\n",
    "                                                v2_te_patch_num = te_p \n",
    "                                                )\n",
    "\n",
    "# Class number\n",
    "from tensorflow.keras import utils\n",
    "if issue_input == 'ZEB_50k':\n",
    "    num_classes = 6\n",
    "elif issue_input == 'NORMvsDISTRESS_50k':\n",
    "    num_classes = 2\n",
    "else:\n",
    "    print('enter valid issue input')\n",
    "\n",
    "# Converting to Categorical Data   \n",
    "y_train = utils.to_categorical(y_train, num_classes)\n",
    "y_valid = utils.to_categorical(y_valid, num_classes)\n",
    "y_test = utils.to_categorical(y_test, num_classes)\n",
    "\n",
    "# Report Data \n",
    "shape_input = x_train[0,:,:,:].shape\n",
    "print(f'input shape  : {shape_input}')\n",
    "print(f'train num is : {y_train.shape[0]}')\n",
    "print(f'valid num is : {y_valid.shape[0]}')\n",
    "print(f'test  num is : {y_test.shape[0]}')"
   ]
  },
  {
   "cell_type": "markdown",
   "metadata": {},
   "source": [
    "# Load Model"
   ]
  },
  {
   "cell_type": "code",
   "execution_count": null,
   "metadata": {},
   "outputs": [],
   "source": [
    "import readmodel\n",
    "model = readmodel.modelchoose( 'model_5', shape_input, num_classes)\n",
    "model.summary()"
   ]
  },
  {
   "cell_type": "markdown",
   "metadata": {},
   "source": [
    "# Model Compile"
   ]
  },
  {
   "cell_type": "code",
   "execution_count": null,
   "metadata": {},
   "outputs": [],
   "source": [
    "#opt = keras.optimizers.RMSprop(learning_rate=0.01,momentum=0.7, decay=1e-6)\n",
    "if num_classes == 2:\n",
    "    loss = 'binary_crossentropy'\n",
    "if num_classes == 6:\n",
    "    loss = 'categorical_crossentropy'\n",
    "    \n",
    "print(loss)\n",
    "\n",
    "from tensorflow.keras.optimizers import SGD\n",
    "opt = SGD(lr=0.01)\n",
    "model.compile(loss = loss, optimizer = opt,  metrics=['accuracy'] )"
   ]
  },
  {
   "cell_type": "markdown",
   "metadata": {},
   "source": [
    "# Model Weights' Training"
   ]
  },
  {
   "cell_type": "code",
   "execution_count": null,
   "metadata": {},
   "outputs": [],
   "source": [
    "epochs = 5 # 200\n",
    "batch_size = 256 # 256\n",
    "#num_classes = y_train_binary.shape[1]\n",
    "history = model.fit(x_train, y_train,\n",
    "              batch_size=batch_size,\n",
    "              epochs=epochs,\n",
    "              validation_data=(x_valid, y_valid),\n",
    "              shuffle=True)"
   ]
  },
  {
   "cell_type": "code",
   "execution_count": null,
   "metadata": {},
   "outputs": [],
   "source": []
  },
  {
   "cell_type": "markdown",
   "metadata": {},
   "source": [
    "## Save Training History"
   ]
  },
  {
   "cell_type": "code",
   "execution_count": null,
   "metadata": {},
   "outputs": [],
   "source": [
    "from random import random\n",
    "import pickle\n",
    "\n",
    "PATH_SAVE = '/home/ali/my_project/gaps/saved_models/' + RUN_NAME+ '_'\n",
    "Rand = str(int(100* random()))\n",
    "pickle_out = open(PATH_SAVE + Rand + '.pickle',\"wb\")\n",
    "pickle.dump(history.history, pickle_out)\n",
    "pickle_out.close()\n",
    "print('history saved as : '+ PATH_SAVE + Rand)"
   ]
  },
  {
   "cell_type": "code",
   "execution_count": null,
   "metadata": {},
   "outputs": [],
   "source": [
    "%%bash\n",
    "ls saved_models"
   ]
  },
  {
   "cell_type": "markdown",
   "metadata": {},
   "source": [
    "## Load Training History"
   ]
  },
  {
   "cell_type": "code",
   "execution_count": null,
   "metadata": {},
   "outputs": [],
   "source": [
    "#import pickle\n",
    "#pickle_in = open(PATH_SAVE + str(23) + '.pickle',\"rb\")\n",
    "#history = pickle.load(pickle_in)"
   ]
  },
  {
   "cell_type": "code",
   "execution_count": null,
   "metadata": {},
   "outputs": [],
   "source": [
    "scores = model.evaluate(x_test, y_test, verbose=2)"
   ]
  },
  {
   "cell_type": "code",
   "execution_count": null,
   "metadata": {},
   "outputs": [],
   "source": [
    "# Plot training & validation loss values\n",
    "import matplotlib.pyplot as plt\n",
    "plt.plot(history.history['loss'])\n",
    "plt.plot(history.history['val_loss'])\n",
    "plt.title('Model loss')\n",
    "plt.ylabel('Loss')\n",
    "plt.xlabel('Epoch')\n",
    "plt.legend(['Train', 'Test'], loc='upper left')\n",
    "plt.show()"
   ]
  },
  {
   "cell_type": "code",
   "execution_count": null,
   "metadata": {},
   "outputs": [],
   "source": [
    "plt.plot(history.history['accuracy'], label='accuracy')\n",
    "plt.plot(history.history['val_accuracy'], label = 'val_accuracy')\n",
    "plt.xlabel('Epoch')\n",
    "plt.ylabel('Accuracy')\n",
    "plt.ylim([0.5, 1])\n",
    "plt.legend(loc='lower right')"
   ]
  },
  {
   "cell_type": "code",
   "execution_count": null,
   "metadata": {},
   "outputs": [],
   "source": [
    "%%bash\n",
    "cd saved_models\n",
    "ls"
   ]
  },
  {
   "cell_type": "code",
   "execution_count": null,
   "metadata": {},
   "outputs": [],
   "source": [
    "num_classes = y_test.shape[1]\n",
    "print(num_classes)"
   ]
  },
  {
   "cell_type": "code",
   "execution_count": null,
   "metadata": {},
   "outputs": [],
   "source": [
    "if num_classes == 2:\n",
    "    class_dict = {0 : 'intact',\n",
    "                  1 : 'distress'}\n",
    "elif num_classes == 6:\n",
    "    class_dict = {0 : 'intact road',\n",
    "                   1 : 'applied patch',\n",
    "                   2 : 'pothole',\n",
    "                   3 : 'inlaid patch',\n",
    "                   4 : 'open joint',\n",
    "                   5 : 'crack'}\n",
    "else:\n",
    "    print('number of clases must be 2 or 6')\n",
    "\n",
    "print(class_dict)"
   ]
  },
  {
   "cell_type": "code",
   "execution_count": null,
   "metadata": {},
   "outputs": [],
   "source": [
    "print(y_test.shape)"
   ]
  },
  {
   "cell_type": "code",
   "execution_count": null,
   "metadata": {},
   "outputs": [],
   "source": [
    "if num_classes == 6:\n",
    "    crack_intact =        []\n",
    "    crack_applied_patch = []\n",
    "    crack_pothole =       []\n",
    "    crack_inlaid_patch =  []\n",
    "    crack_open_joint =    []\n",
    "    crack_distress =      []\n",
    "\n",
    "    \n",
    "    for i, item in enumerate(y_test):\n",
    "\n",
    "        if item[0] == 1:\n",
    "            crack_intact.append(i)\n",
    "        elif item[1] == 1:\n",
    "            crack_applied_patch.append(i)\n",
    "        elif item[2] == 1: \n",
    "            crack_pothole.append(i)\n",
    "        elif item[3] == 1: \n",
    "            crack_inlaid_patch.append(i)\n",
    "        elif item[4] == 1:\n",
    "            crack_open_joint.append(i)\n",
    "        elif item[5] == 1 :\n",
    "            crack_distress.append(i)\n",
    "        else:\n",
    "            print(\"non is detected\")\n",
    "\n",
    "\n",
    "elif num_classes == 2: \n",
    "    crack_intact =          []\n",
    "    crack_distress =        []\n",
    "    \n",
    "    for i, item in enumerate(y_test):\n",
    "        if item[0] == 1:\n",
    "            crack_intact.append(i)\n",
    "        elif item[1] == 1 :\n",
    "            crack_distress.append(i)\n",
    "        else:\n",
    "            print(\"non is detected\")"
   ]
  },
  {
   "cell_type": "code",
   "execution_count": null,
   "metadata": {},
   "outputs": [],
   "source": [
    "end_limit = 6\n",
    "\n",
    "test_collection = []\n",
    "if num_classes == 6:\n",
    "    #print(f'first ten items in cul6 for crack classes:\\n {MyList[:10]}')\n",
    "    print(f'first ten intact road class 0: \\n {crack_intact[:end_limit]}')\n",
    "    test_collection.append(crack_intact[:end_limit])\n",
    "    print(f'first ten applied patch class 1: \\n{crack_applied_patch[:end_limit]}')\n",
    "    test_collection.append(crack_applied_patch[:end_limit])\n",
    "    print(f'first ten pothole class 2 : \\n{crack_pothole[:end_limit]}')\n",
    "    test_collection.append(crack_pothole[:end_limit])\n",
    "    print(f'first ten inlaid patch class 3:\\n {crack_inlaid_patch[:end_limit]}')\n",
    "    test_collection.append(crack_inlaid_patch[:end_limit])\n",
    "    print(f'first ten open joint class 4:\\n {crack_open_joint[:end_limit]}')\n",
    "    test_collection.append(crack_open_joint[:end_limit])\n",
    "    print(f'first ten crack normal class 5:\\n{crack_distress[:end_limit]}')\n",
    "    test_collection.append(crack_distress[:end_limit])\n",
    "print(test_collection)    \n",
    "\n",
    "if num_classes == 2:\n",
    "    #print(f'first ten items in cul6 for crack classes:\\n {MyList[:10]}')\n",
    "    print(f'first ten intact road class  0: \\n {crack_intact[:end_limit]}')\n",
    "    test_collection.append(crack_intact[:end_limit])\n",
    "    print(f'first ten crack distress class 1:\\n{crack_distress[:end_limit]}')\n",
    "    test_collection.append(crack_distress[:end_limit]) "
   ]
  },
  {
   "cell_type": "code",
   "execution_count": null,
   "metadata": {},
   "outputs": [],
   "source": [
    "test_collection[0][2]\n",
    "len(test_collection[0])"
   ]
  },
  {
   "cell_type": "code",
   "execution_count": null,
   "metadata": {},
   "outputs": [],
   "source": [
    "y_pred_c = model.predict_classes(x_test)"
   ]
  },
  {
   "cell_type": "code",
   "execution_count": null,
   "metadata": {},
   "outputs": [],
   "source": [
    "from matplotlib import pyplot as plt\n",
    "fig = plt.figure(figsize=(6, 6))  # figure size in inches\n",
    "fig.subplots_adjust(left=0, right=1, bottom=0, top=1, hspace=0.05, wspace=0.05)\n",
    "\n",
    "c = 0\n",
    "for i in range(len(test_collection)):\n",
    "    for j in range(len(test_collection[0])):\n",
    "        c += 1\n",
    "        #print(c)\n",
    "        #print(f'i is {i}')\n",
    "        #print(f'j is {j}')\n",
    "        #print(f'test_collection is {test_collection[i][j]}')\n",
    "        ax = fig.add_subplot(6, 6, c , xticks=[], yticks=[])\n",
    "        img_num = test_collection[i][j]\n",
    "        ax.imshow(x_test[img_num, 0, :, :], cmap=plt.cm.binary, interpolation='nearest')\n",
    "        # label the image with the target value\n",
    "        ax.text(10, 120, str(y_pred_c[img_num]))\n",
    "print(c)\n",
    "\n",
    "#for i , item in enumerate(test_collection):\n",
    "#    print(i)\n",
    "#    print(item)"
   ]
  },
  {
   "cell_type": "code",
   "execution_count": null,
   "metadata": {},
   "outputs": [],
   "source": [
    "img_num = 5\n",
    "\n",
    "\n",
    "\n",
    "print(y_test[img_num])\n",
    "for i , item in enumerate(y_test[img_num]):\n",
    "    if item == 1:\n",
    "        lb = i\n",
    "\n",
    "img_patch = (x_test[img_num,0, :, :]+1)*127.5\n",
    "import matplotlib.pyplot as plt\n",
    "#plt.figure(figsize=(2, 2))\n",
    "plt.imshow(img_patch, cmap='gray', vmin=0, vmax=255)\n",
    "plt.title(f'class:{int(lb)},labeled as {class_dict[lb]}')\n",
    "plt.show()"
   ]
  },
  {
   "cell_type": "code",
   "execution_count": null,
   "metadata": {},
   "outputs": [],
   "source": [
    "y_pred_c"
   ]
  },
  {
   "cell_type": "code",
   "execution_count": null,
   "metadata": {},
   "outputs": [],
   "source": [
    "y_test"
   ]
  },
  {
   "cell_type": "code",
   "execution_count": null,
   "metadata": {},
   "outputs": [],
   "source": [
    "for i , item in enumerate(y_test[img_num]):\n",
    "    if item == 1:\n",
    "        lb = i"
   ]
  },
  {
   "cell_type": "code",
   "execution_count": null,
   "metadata": {},
   "outputs": [],
   "source": [
    "img_n = 2042\n",
    "print(y_pred_c[img_n])\n",
    "print(y_test[img_n])"
   ]
  },
  {
   "cell_type": "code",
   "execution_count": null,
   "metadata": {},
   "outputs": [],
   "source": [
    "first ten intact road class 0: \n",
    " [0, 2, 3, 4, 6, 8]\n",
    "first ten applied patch class 1: \n",
    "[32, 36, 75, 79, 110, 117]\n",
    "first ten pothole class 2 : \n",
    "[1364, 1494, 1650, 2042, 2734, 2814]\n",
    "first ten inlaid patch class 3:\n",
    " [1, 5, 26, 30, 42, 46]\n",
    "first ten open joint class 4:\n",
    " [31, 78, 89, 115, 137, 288]\n",
    "first ten crack normal class 5:\n",
    "[7, 23, 29, 34, 54, 58]\n",
    "[[0, 2, 3, 4, 6, 8], [32, 36, 75, 79, 110, 117], [1364, 1494, 1650, 2042, 2734, 2814], [1, 5, 26, 30, 42, 46], [31, 78, 89, 115, 137, 288], [7, 23, 29, 34, 54, 58]]"
   ]
  },
  {
   "cell_type": "code",
   "execution_count": null,
   "metadata": {},
   "outputs": [],
   "source": []
  }
 ],
 "metadata": {
  "kernelspec": {
   "display_name": "Python 3",
   "language": "python",
   "name": "python3"
  },
  "language_info": {
   "codemirror_mode": {
    "name": "ipython",
    "version": 3
   },
   "file_extension": ".py",
   "mimetype": "text/x-python",
   "name": "python",
   "nbconvert_exporter": "python",
   "pygments_lexer": "ipython3",
   "version": "3.6.8"
  }
 },
 "nbformat": 4,
 "nbformat_minor": 2
}
